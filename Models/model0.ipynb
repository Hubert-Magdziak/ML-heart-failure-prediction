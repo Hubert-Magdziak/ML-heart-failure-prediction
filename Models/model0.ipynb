{
 "cells": [
  {
   "cell_type": "markdown",
   "metadata": {},
   "source": [
    "# Basic model\n",
    "##### - no feature engineering\n",
    "##### - excluded variable time (high correlation with DEATH_EVENT, feedback loop)"
   ]
  },
  {
   "cell_type": "code",
   "execution_count": 52,
   "metadata": {},
   "outputs": [],
   "source": [
    "import pandas as pd\n",
    "import numpy as np\n",
    "import matplotlib.pyplot as plt\n",
    "import seaborn as sns\n",
    "from sklearn.model_selection import train_test_split, GridSearchCV\n",
    "from sklearn.preprocessing import StandardScaler\n",
    "from sklearn.ensemble import RandomForestClassifier\n",
    "from sklearn.linear_model import LogisticRegression\n",
    "from sklearn.metrics import classification_report, confusion_matrix\n",
    "\n",
    "seed = 42"
   ]
  },
  {
   "cell_type": "code",
   "execution_count": 36,
   "metadata": {},
   "outputs": [
    {
     "name": "stdout",
     "output_type": "stream",
     "text": [
      "<class 'pandas.core.frame.DataFrame'>\n",
      "RangeIndex: 299 entries, 0 to 298\n",
      "Data columns (total 13 columns):\n",
      " #   Column                    Non-Null Count  Dtype  \n",
      "---  ------                    --------------  -----  \n",
      " 0   age                       299 non-null    float64\n",
      " 1   anaemia                   299 non-null    int64  \n",
      " 2   creatinine_phosphokinase  299 non-null    int64  \n",
      " 3   diabetes                  299 non-null    int64  \n",
      " 4   ejection_fraction         299 non-null    int64  \n",
      " 5   high_blood_pressure       299 non-null    int64  \n",
      " 6   platelets                 299 non-null    float64\n",
      " 7   serum_creatinine          299 non-null    float64\n",
      " 8   serum_sodium              299 non-null    int64  \n",
      " 9   sex                       299 non-null    int64  \n",
      " 10  smoking                   299 non-null    int64  \n",
      " 11  time                      299 non-null    int64  \n",
      " 12  DEATH_EVENT               299 non-null    int64  \n",
      "dtypes: float64(3), int64(10)\n",
      "memory usage: 30.5 KB\n"
     ]
    }
   ],
   "source": [
    "# Read the data\n",
    "path = \"/Users/hubertmagdziak/Desktop/ML-heart-failure-prediction/heart_failure_clinical_records_dataset.csv\"\n",
    "df = pd.read_csv(path)\n",
    "df.info()"
   ]
  },
  {
   "cell_type": "code",
   "execution_count": 37,
   "metadata": {},
   "outputs": [
    {
     "name": "stdout",
     "output_type": "stream",
     "text": [
      "Correlation between 'time' and 'DEATH_EVENT': -0.54\n"
     ]
    },
    {
     "data": {
      "image/png": "[encoded data removed]",
      "text/plain": [
       "<Figure size 500x500 with 1 Axes>"
      ]
     },
     "metadata": {},
     "output_type": "display_data"
    }
   ],
   "source": [
    "# Examine high correlation between \"time\" and \"DEATH_EVENT\"\n",
    "sns.relplot(data=df,\n",
    "            y=\"time\",\n",
    "            x=\"DEATH_EVENT\",\n",
    "            kind=\"scatter\")\n",
    "\n",
    "# Correlation value\n",
    "print(f\"Correlation between 'time' and 'DEATH_EVENT': {df[['time', 'DEATH_EVENT']].corr('spearman').values[0,1]:.2f}\")"
   ]
  },
  {
   "cell_type": "code",
   "execution_count": 38,
   "metadata": {},
   "outputs": [
    {
     "name": "stdout",
     "output_type": "stream",
     "text": [
      "X_train shape: (224, 11)\n",
      "\n",
      "X_test shape: (75, 11)\n",
      "\n",
      "y_train shape: (224,)\n",
      "\n",
      "y_test shape: (75,)\n",
      "\n"
     ]
    }
   ],
   "source": [
    "# Split the data into training and testing\n",
    "df_modelling = df.drop(columns=[\"time\"])\n",
    "X = df_modelling.drop(columns=[\"DEATH_EVENT\"])\n",
    "y = df_modelling[\"DEATH_EVENT\"]\n",
    "X_train, X_test, y_train, y_test = train_test_split(\n",
    "    X,\n",
    "    y,\n",
    "    test_size=0.25,\n",
    "    shuffle=True,\n",
    "    stratify=y,\n",
    "    random_state=seed\n",
    ")\n",
    "print(f\"X_train shape: {X_train.shape}\\n\")\n",
    "print(f\"X_test shape: {X_test.shape}\\n\")\n",
    "print(f\"y_train shape: {y_train.shape}\\n\")\n",
    "print(f\"y_test shape: {y_test.shape}\\n\")"
   ]
  },
  {
   "cell_type": "code",
   "execution_count": 39,
   "metadata": {},
   "outputs": [],
   "source": [
    "# Standardize the data\n",
    "scaler = StandardScaler()\n",
    "X_train = scaler.fit_transform(X_train)\n",
    "X_test = scaler.transform(X_test)"
   ]
  },
  {
   "cell_type": "code",
   "execution_count": 64,
   "metadata": {},
   "outputs": [
    {
     "name": "stdout",
     "output_type": "stream",
     "text": [
      "              precision    recall  f1-score   support\n",
      "\n",
      "           0       0.76      0.86      0.81        51\n",
      "           1       0.59      0.42      0.49        24\n",
      "\n",
      "    accuracy                           0.72        75\n",
      "   macro avg       0.67      0.64      0.65        75\n",
      "weighted avg       0.70      0.72      0.71        75\n",
      "\n",
      "[[44  7]\n",
      " [14 10]]\n"
     ]
    }
   ],
   "source": [
    "log_reg = LogisticRegression()\n",
    "log_reg.fit(X_train, y_train)\n",
    "y_pred_elastic_net = log_reg.predict(X_test)\n",
    "y_pred_proba_elastic_net = log_reg.predict_proba(X_test)[:,1]\n",
    "print(classification_report(y_test, y_pred_elastic_net))\n",
    "print(confusion_matrix(y_test, y_pred_elastic_net))"
   ]
  },
  {
   "cell_type": "code",
   "execution_count": 65,
   "metadata": {},
   "outputs": [
    {
     "data": {
      "text/plain": [
       "0.3210702341137124"
      ]
     },
     "execution_count": 65,
     "metadata": {},
     "output_type": "execute_result"
    }
   ],
   "source": [
    "y.mean()"
   ]
  },
  {
   "cell_type": "code",
   "execution_count": 69,
   "metadata": {},
   "outputs": [
    {
     "name": "stdout",
     "output_type": "stream",
     "text": [
      "              precision    recall  f1-score   support\n",
      "\n",
      "           0       0.77      0.73      0.75        51\n",
      "           1       0.48      0.54      0.51        24\n",
      "\n",
      "    accuracy                           0.67        75\n",
      "   macro avg       0.63      0.63      0.63        75\n",
      "weighted avg       0.68      0.67      0.67        75\n",
      "\n"
     ]
    }
   ],
   "source": [
    "print(classification_report(y_test, y_pred_proba_elastic_net >= y.mean()))"
   ]
  }
 ],
 "metadata": {
  "kernelspec": {
   "display_name": "Python 3",
   "language": "python",
   "name": "python3"
  },
  "language_info": {
   "codemirror_mode": {
    "name": "ipython",
    "version": 3
   },
   "file_extension": ".py",
   "mimetype": "text/x-python",
   "name": "python",
   "nbconvert_exporter": "python",
   "pygments_lexer": "ipython3",
   "version": "3.12.2"
  }
 },
 "nbformat": 4,
 "nbformat_minor": 2
}
